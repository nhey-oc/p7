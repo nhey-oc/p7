{
 "cells": [
  {
   "cell_type": "code",
   "execution_count": 18,
   "id": "cb992818-8b15-45df-8edf-a3a3ac555504",
   "metadata": {},
   "outputs": [],
   "source": [
    "import pandas as pd\n",
    "import numpy as np\n",
    "import pickle\n",
    "\n",
    "from sklearn.model_selection import ParameterGrid\n",
    "import xgboost as xgb\n",
    "\n",
    "from sklearn.model_selection import cross_val_score\n"
   ]
  },
  {
   "cell_type": "code",
   "execution_count": 7,
   "id": "164a2a70-2002-4a42-b187-07bb62eb29e6",
   "metadata": {},
   "outputs": [],
   "source": [
    "X = pd.read_pickle('dataframes/X_filled_random_undersampled.pkl')\n",
    "y = pd.read_pickle('dataframes/y_filled_random_undersampled.pkl')"
   ]
  },
  {
   "cell_type": "code",
   "execution_count": 24,
   "id": "228bbb63-66fa-40ee-a7d9-3d6b64cc51ae",
   "metadata": {},
   "outputs": [
    {
     "data": {
      "text/plain": [
       "0.0    24825\n",
       "1.0    24825\n",
       "Name: TARGET, dtype: int64"
      ]
     },
     "execution_count": 24,
     "metadata": {},
     "output_type": "execute_result"
    }
   ],
   "source": [
    "y.value_counts()"
   ]
  },
  {
   "cell_type": "code",
   "execution_count": 40,
   "id": "55c2b821-2ea7-445f-b8d3-e68548e703f8",
   "metadata": {},
   "outputs": [],
   "source": [
    "def my_metrics(y_preds, y, yup):\n",
    "    scores = list()\n",
    "    for i in range(0, len(y_preds)):\n",
    "        if ( y_preds[i] == 0 ) & ( y[i] == 0 ):\n",
    "            scores.append(0)\n",
    "        elif ( y_preds[i] == 1 ) & ( y[i] == 1 ):\n",
    "            scores.append(0.1)\n",
    "        elif ( y_preds[i] == 1 ) & ( y[i] == 0 ):\n",
    "            scores.append(-0.1)\n",
    "        elif ( y_preds[i] == 0 ) & ( y[i] == 1 ):\n",
    "            scores.append(-1)\n",
    "    return np.array(scores)"
   ]
  },
  {
   "cell_type": "code",
   "execution_count": 41,
   "id": "fa7de7af-efb9-4d03-bf26-7074b83ee28f",
   "metadata": {},
   "outputs": [],
   "source": [
    "def XGBClassifier_train(X, y):\n",
    "    # Inspired by https://towardsdatascience.com/beginners-guide-to-xgboost-for-classification-problems-50f75aac5390\n",
    "    # Preset the hyper-params.\n",
    "    param_grid = ParameterGrid(\n",
    "        {\n",
    "            \"gamma\": [0.5],\n",
    "            \"reg_alpha\": [0, 1],\n",
    "            \"max_depth\": [1],\n",
    "            \"learning_rate\": [0.01],\n",
    "        }\n",
    "    )\n",
    "\n",
    "    best_score = 0\n",
    "    nb_comb = len(list(param_grid))\n",
    "\n",
    "    XGB_dic = dict()\n",
    "\n",
    "    #fb_score = make_scorer(fbeta_score, beta=3)\n",
    "\n",
    "    i=0\n",
    "    for params in param_grid:\n",
    "        i+=1\n",
    "        print(i, \"/\", nb_comb, sep=\"\")\n",
    "        # Declare the model\n",
    "        xgb_cl = xgb.XGBClassifier(**params)\n",
    "\n",
    "        score = np.mean(cross_val_score(xgb_cl, X, y, cv=5, scoring=my_metrics))\n",
    "        XGB_dic[str(params)] = score\n",
    "\n",
    "        print(score)\n",
    "        if 1: #score > best_score:\n",
    "            print(score, params)\n",
    "            best_score = score\n",
    "            best_params = params\n",
    "\n",
    "    with open('XGB_dic.pkl', 'wb') as f:\n",
    "        pickle.dump(XGB_dic, f)\n",
    "\n",
    "    return {\"mehtod\": \"XGB\", \"best_score\": best_score, \"params\": best_params}"
   ]
  },
  {
   "cell_type": "code",
   "execution_count": 42,
   "id": "4db4f012-d558-4b3f-9a5d-d7ae2cdf66c3",
   "metadata": {},
   "outputs": [
    {
     "name": "stdout",
     "output_type": "stream",
     "text": [
      "1/2\n"
     ]
    },
    {
     "name": "stderr",
     "output_type": "stream",
     "text": [
      "/home/nhey/.local/lib/python3.10/site-packages/sklearn/model_selection/_validation.py:776: UserWarning: Scoring failed. The score on this train-test partition for these parameters will be set to nan. Details: \n",
      "Traceback (most recent call last):\n",
      "  File \"/home/nhey/.local/lib/python3.10/site-packages/sklearn/model_selection/_validation.py\", line 767, in _score\n",
      "    scores = scorer(estimator, X_test, y_test)\n",
      "  File \"/home/nhey/.local/lib/python3.10/site-packages/sklearn/metrics/_scorer.py\", line 108, in __call__\n",
      "    score = scorer(estimator, *args, **kwargs)\n",
      "  File \"/tmp/ipykernel_32233/3809800598.py\", line 3, in my_metrics\n",
      "    for i in range(0, len(y_preds)):\n",
      "TypeError: object of type 'XGBClassifier' has no len()\n",
      "\n",
      "  warnings.warn(\n"
     ]
    },
    {
     "name": "stdout",
     "output_type": "stream",
     "text": [
      "nan\n",
      "nan {'gamma': 0.5, 'learning_rate': 0.01, 'max_depth': 1, 'reg_alpha': 0}\n",
      "2/2\n"
     ]
    },
    {
     "name": "stderr",
     "output_type": "stream",
     "text": [
      "/home/nhey/.local/lib/python3.10/site-packages/sklearn/model_selection/_validation.py:776: UserWarning: Scoring failed. The score on this train-test partition for these parameters will be set to nan. Details: \n",
      "Traceback (most recent call last):\n",
      "  File \"/home/nhey/.local/lib/python3.10/site-packages/sklearn/model_selection/_validation.py\", line 767, in _score\n",
      "    scores = scorer(estimator, X_test, y_test)\n",
      "  File \"/home/nhey/.local/lib/python3.10/site-packages/sklearn/metrics/_scorer.py\", line 108, in __call__\n",
      "    score = scorer(estimator, *args, **kwargs)\n",
      "  File \"/tmp/ipykernel_32233/3809800598.py\", line 3, in my_metrics\n",
      "    for i in range(0, len(y_preds)):\n",
      "TypeError: object of type 'XGBClassifier' has no len()\n",
      "\n",
      "  warnings.warn(\n"
     ]
    },
    {
     "name": "stdout",
     "output_type": "stream",
     "text": [
      "nan\n",
      "nan {'gamma': 0.5, 'learning_rate': 0.01, 'max_depth': 1, 'reg_alpha': 1}\n"
     ]
    },
    {
     "data": {
      "text/plain": [
       "{'mehtod': 'XGB',\n",
       " 'best_score': nan,\n",
       " 'params': {'gamma': 0.5,\n",
       "  'learning_rate': 0.01,\n",
       "  'max_depth': 1,\n",
       "  'reg_alpha': 1}}"
      ]
     },
     "execution_count": 42,
     "metadata": {},
     "output_type": "execute_result"
    }
   ],
   "source": [
    "XGBClassifier_train(X, y)"
   ]
  },
  {
   "cell_type": "code",
   "execution_count": null,
   "id": "ddde3d1d-b6c6-409c-b79e-e4c46ab4e4bd",
   "metadata": {},
   "outputs": [],
   "source": []
  },
  {
   "cell_type": "code",
   "execution_count": null,
   "id": "2b144655-1d00-46a3-a5fe-30f1907896da",
   "metadata": {},
   "outputs": [],
   "source": []
  }
 ],
 "metadata": {
  "kernelspec": {
   "display_name": "Python 3 (ipykernel)",
   "language": "python",
   "name": "python3"
  },
  "language_info": {
   "codemirror_mode": {
    "name": "ipython",
    "version": 3
   },
   "file_extension": ".py",
   "mimetype": "text/x-python",
   "name": "python",
   "nbconvert_exporter": "python",
   "pygments_lexer": "ipython3",
   "version": "3.10.4"
  }
 },
 "nbformat": 4,
 "nbformat_minor": 5
}
